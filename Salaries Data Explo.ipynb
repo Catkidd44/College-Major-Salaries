{
 "cells": [
  {
   "cell_type": "markdown",
   "id": "d02cf787",
   "metadata": {},
   "source": [
    "## Data Exploration Majors "
   ]
  },
  {
   "cell_type": "code",
   "execution_count": 122,
   "id": "4a0784ae",
   "metadata": {},
   "outputs": [],
   "source": [
    "## From Kaggle 'U.S Post College Salaries'\n",
    "import pandas as pd\n",
    "import matplotlib.pyplot as plt\n",
    "import seaborn as sns\n",
    "import numpy as np\n",
    "%matplotlib inline"
   ]
  },
  {
   "cell_type": "code",
   "execution_count": 123,
   "id": "f5c7c7e0",
   "metadata": {},
   "outputs": [
    {
     "name": "stdout",
     "output_type": "stream",
     "text": [
      "Dataset URL: https://www.kaggle.com/datasets/rathoddharmendra/post-college-salaries\n",
      "License(s): MIT\n",
      "post-college-salaries.zip: Skipping, found more recently modified local copy (use --force to force download)\n"
     ]
    }
   ],
   "source": [
    "!kaggle datasets download -d rathoddharmendra/post-college-salaries"
   ]
  },
  {
   "cell_type": "code",
   "execution_count": 124,
   "id": "988e432d",
   "metadata": {},
   "outputs": [],
   "source": [
    "import zipfile\n",
    "\n",
    "with zipfile.ZipFile(\"post-college-salaries.zip\", \"r\") as zip_ref:\n",
    "    zip_ref.extractall(\"post_college_salaries\")"
   ]
  },
  {
   "cell_type": "code",
   "execution_count": 125,
   "id": "0ea57edb",
   "metadata": {},
   "outputs": [
    {
     "data": {
      "text/plain": [
       "['final-post-college-salaries.csv', 'sample.csv']"
      ]
     },
     "execution_count": 125,
     "metadata": {},
     "output_type": "execute_result"
    }
   ],
   "source": [
    "import os\n",
    "os.listdir(\"post_college_salaries\")"
   ]
  },
  {
   "cell_type": "code",
   "execution_count": 126,
   "id": "8596e569",
   "metadata": {},
   "outputs": [],
   "source": [
    "df = pd.read_csv(\"post_college_salaries/final-post-college-salaries.csv\")"
   ]
  },
  {
   "cell_type": "code",
   "execution_count": 127,
   "id": "dd8d6895",
   "metadata": {},
   "outputs": [
    {
     "data": {
      "text/html": [
       "<div>\n",
       "<style scoped>\n",
       "    .dataframe tbody tr th:only-of-type {\n",
       "        vertical-align: middle;\n",
       "    }\n",
       "\n",
       "    .dataframe tbody tr th {\n",
       "        vertical-align: top;\n",
       "    }\n",
       "\n",
       "    .dataframe thead th {\n",
       "        text-align: right;\n",
       "    }\n",
       "</style>\n",
       "<table border=\"1\" class=\"dataframe\">\n",
       "  <thead>\n",
       "    <tr style=\"text-align: right;\">\n",
       "      <th></th>\n",
       "      <th>Rank</th>\n",
       "      <th>Major</th>\n",
       "      <th>Degree Type</th>\n",
       "      <th>Early Career Pay</th>\n",
       "      <th>Mid-Career Pay</th>\n",
       "      <th>% High Meaning</th>\n",
       "    </tr>\n",
       "  </thead>\n",
       "  <tbody>\n",
       "    <tr>\n",
       "      <th>0</th>\n",
       "      <td>1</td>\n",
       "      <td>Petroleum Engineering</td>\n",
       "      <td>Bachelors</td>\n",
       "      <td>$98,100</td>\n",
       "      <td>$212,100</td>\n",
       "      <td>60%</td>\n",
       "    </tr>\n",
       "    <tr>\n",
       "      <th>1</th>\n",
       "      <td>2</td>\n",
       "      <td>Operations Research &amp; Industrial Engineering</td>\n",
       "      <td>Bachelors</td>\n",
       "      <td>$101,200</td>\n",
       "      <td>$202,600</td>\n",
       "      <td>21%</td>\n",
       "    </tr>\n",
       "    <tr>\n",
       "      <th>2</th>\n",
       "      <td>3</td>\n",
       "      <td>Electrical Engineering &amp; Computer Science (EECS)</td>\n",
       "      <td>Bachelors</td>\n",
       "      <td>$128,500</td>\n",
       "      <td>$192,300</td>\n",
       "      <td>45%</td>\n",
       "    </tr>\n",
       "    <tr>\n",
       "      <th>3</th>\n",
       "      <td>4</td>\n",
       "      <td>Interaction Design</td>\n",
       "      <td>Bachelors</td>\n",
       "      <td>$77,400</td>\n",
       "      <td>$178,800</td>\n",
       "      <td>55%</td>\n",
       "    </tr>\n",
       "    <tr>\n",
       "      <th>4</th>\n",
       "      <td>5</td>\n",
       "      <td>Building Science</td>\n",
       "      <td>Bachelors</td>\n",
       "      <td>$71,100</td>\n",
       "      <td>$172,400</td>\n",
       "      <td>46%</td>\n",
       "    </tr>\n",
       "  </tbody>\n",
       "</table>\n",
       "</div>"
      ],
      "text/plain": [
       "   Rank                                             Major Degree Type  \\\n",
       "0     1                             Petroleum Engineering   Bachelors   \n",
       "1     2      Operations Research & Industrial Engineering   Bachelors   \n",
       "2     3  Electrical Engineering & Computer Science (EECS)   Bachelors   \n",
       "3     4                                Interaction Design   Bachelors   \n",
       "4     5                                  Building Science   Bachelors   \n",
       "\n",
       "  Early Career Pay Mid-Career Pay % High Meaning  \n",
       "0          $98,100       $212,100            60%  \n",
       "1         $101,200       $202,600            21%  \n",
       "2         $128,500       $192,300            45%  \n",
       "3          $77,400       $178,800            55%  \n",
       "4          $71,100       $172,400            46%  "
      ]
     },
     "execution_count": 127,
     "metadata": {},
     "output_type": "execute_result"
    }
   ],
   "source": [
    "df.head(5)"
   ]
  },
  {
   "cell_type": "code",
   "execution_count": 128,
   "id": "3cf33477",
   "metadata": {},
   "outputs": [
    {
     "name": "stdout",
     "output_type": "stream",
     "text": [
      "<class 'pandas.core.frame.DataFrame'>\n",
      "RangeIndex: 763 entries, 0 to 762\n",
      "Data columns (total 6 columns):\n",
      " #   Column            Non-Null Count  Dtype \n",
      "---  ------            --------------  ----- \n",
      " 0   Rank              763 non-null    int64 \n",
      " 1   Major             763 non-null    object\n",
      " 2   Degree Type       763 non-null    object\n",
      " 3   Early Career Pay  763 non-null    object\n",
      " 4   Mid-Career Pay    763 non-null    object\n",
      " 5   % High Meaning    763 non-null    object\n",
      "dtypes: int64(1), object(5)\n",
      "memory usage: 35.9+ KB\n"
     ]
    }
   ],
   "source": [
    "df.info()"
   ]
  },
  {
   "cell_type": "code",
   "execution_count": 129,
   "id": "1b666cb9",
   "metadata": {},
   "outputs": [
    {
     "data": {
      "text/plain": [
       "Rank                0\n",
       "Major               0\n",
       "Degree Type         0\n",
       "Early Career Pay    0\n",
       "Mid-Career Pay      0\n",
       "% High Meaning      0\n",
       "dtype: int64"
      ]
     },
     "execution_count": 129,
     "metadata": {},
     "output_type": "execute_result"
    }
   ],
   "source": [
    "#3 No null values!\n",
    "df.isnull().sum()"
   ]
  },
  {
   "cell_type": "code",
   "execution_count": 130,
   "id": "342bdc0f",
   "metadata": {},
   "outputs": [],
   "source": [
    "## Need to get rid off the $$ on both cloumns that have it\n",
    "df['Early Career Pay'] = df['Early Career Pay'].str.replace(r'[$,]', '', regex=True)"
   ]
  },
  {
   "cell_type": "code",
   "execution_count": 131,
   "id": "8f8b6830",
   "metadata": {},
   "outputs": [
    {
     "data": {
      "text/plain": [
       "0       98100\n",
       "1      101200\n",
       "2      128500\n",
       "3       77400\n",
       "4       71100\n",
       "        ...  \n",
       "758     42300\n",
       "759     43900\n",
       "760     47300\n",
       "761     43400\n",
       "762     45900\n",
       "Name: Early Career Pay, Length: 763, dtype: object"
      ]
     },
     "execution_count": 131,
     "metadata": {},
     "output_type": "execute_result"
    }
   ],
   "source": [
    "## Got rid of the $\n",
    "df['Early Career Pay']"
   ]
  },
  {
   "cell_type": "code",
   "execution_count": 132,
   "id": "d3b90c15",
   "metadata": {},
   "outputs": [],
   "source": [
    "## change to int or float, doesnt matter that much in this case\n",
    "df['Early Career Pay'] = df['Early Career Pay'].astype(int)"
   ]
  },
  {
   "cell_type": "code",
   "execution_count": 133,
   "id": "ef89bbb4",
   "metadata": {},
   "outputs": [
    {
     "name": "stdout",
     "output_type": "stream",
     "text": [
      "int32\n"
     ]
    }
   ],
   "source": [
    "## Check to see if it worked\n",
    "print(df['Early Career Pay'].dtype)"
   ]
  },
  {
   "cell_type": "code",
   "execution_count": 134,
   "id": "a7110cf9",
   "metadata": {},
   "outputs": [],
   "source": [
    "## Repeat Process\n",
    "df['Mid-Career Pay'] = df['Mid-Career Pay'].str.replace(r'[$,]', '', regex=True)"
   ]
  },
  {
   "cell_type": "code",
   "execution_count": 135,
   "id": "af0badd3",
   "metadata": {},
   "outputs": [],
   "source": [
    "df['Mid-Career Pay'] = df['Mid-Career Pay'].astype(int)"
   ]
  },
  {
   "cell_type": "code",
   "execution_count": 136,
   "id": "8f457999",
   "metadata": {},
   "outputs": [
    {
     "name": "stdout",
     "output_type": "stream",
     "text": [
      "<class 'pandas.core.frame.DataFrame'>\n",
      "RangeIndex: 763 entries, 0 to 762\n",
      "Data columns (total 6 columns):\n",
      " #   Column            Non-Null Count  Dtype \n",
      "---  ------            --------------  ----- \n",
      " 0   Rank              763 non-null    int64 \n",
      " 1   Major             763 non-null    object\n",
      " 2   Degree Type       763 non-null    object\n",
      " 3   Early Career Pay  763 non-null    int32 \n",
      " 4   Mid-Career Pay    763 non-null    int32 \n",
      " 5   % High Meaning    763 non-null    object\n",
      "dtypes: int32(2), int64(1), object(3)\n",
      "memory usage: 29.9+ KB\n"
     ]
    }
   ],
   "source": [
    "df.info()"
   ]
  },
  {
   "cell_type": "code",
   "execution_count": 137,
   "id": "a32f0297",
   "metadata": {},
   "outputs": [
    {
     "data": {
      "text/html": [
       "<div>\n",
       "<style scoped>\n",
       "    .dataframe tbody tr th:only-of-type {\n",
       "        vertical-align: middle;\n",
       "    }\n",
       "\n",
       "    .dataframe tbody tr th {\n",
       "        vertical-align: top;\n",
       "    }\n",
       "\n",
       "    .dataframe thead th {\n",
       "        text-align: right;\n",
       "    }\n",
       "</style>\n",
       "<table border=\"1\" class=\"dataframe\">\n",
       "  <thead>\n",
       "    <tr style=\"text-align: right;\">\n",
       "      <th></th>\n",
       "      <th>Rank</th>\n",
       "      <th>Major</th>\n",
       "      <th>Degree Type</th>\n",
       "      <th>Early Career Pay</th>\n",
       "      <th>Mid-Career Pay</th>\n",
       "      <th>% High Meaning</th>\n",
       "    </tr>\n",
       "  </thead>\n",
       "  <tbody>\n",
       "    <tr>\n",
       "      <th>0</th>\n",
       "      <td>1</td>\n",
       "      <td>Petroleum Engineering</td>\n",
       "      <td>Bachelors</td>\n",
       "      <td>98100</td>\n",
       "      <td>212100</td>\n",
       "      <td>60%</td>\n",
       "    </tr>\n",
       "  </tbody>\n",
       "</table>\n",
       "</div>"
      ],
      "text/plain": [
       "   Rank                  Major Degree Type  Early Career Pay  Mid-Career Pay  \\\n",
       "0     1  Petroleum Engineering   Bachelors             98100          212100   \n",
       "\n",
       "  % High Meaning  \n",
       "0            60%  "
      ]
     },
     "execution_count": 137,
     "metadata": {},
     "output_type": "execute_result"
    }
   ],
   "source": [
    "df.head(1)"
   ]
  },
  {
   "cell_type": "code",
   "execution_count": 138,
   "id": "14f9c46e",
   "metadata": {},
   "outputs": [],
   "source": [
    "## Have to do the same with meaning column, but a bit different since it has percentages\n",
    "df['% High Meaning'] = df['% High Meaning'].str.replace(r'[%,]', '', regex=True)"
   ]
  },
  {
   "cell_type": "code",
   "execution_count": 139,
   "id": "9608727d",
   "metadata": {},
   "outputs": [
    {
     "data": {
      "text/plain": [
       "'60'"
      ]
     },
     "execution_count": 139,
     "metadata": {},
     "output_type": "execute_result"
    }
   ],
   "source": [
    "df['% High Meaning'].iloc[0]"
   ]
  },
  {
   "cell_type": "code",
   "execution_count": 140,
   "id": "b7fafeaf",
   "metadata": {},
   "outputs": [
    {
     "name": "stdout",
     "output_type": "stream",
     "text": [
      "object\n"
     ]
    }
   ],
   "source": [
    "print(df['% High Meaning'].dtype)"
   ]
  },
  {
   "cell_type": "code",
   "execution_count": 141,
   "id": "0f2e1594",
   "metadata": {},
   "outputs": [],
   "source": [
    "## Replace problematic values to NaN, this column was a bit trickier\n",
    "df['% High Meaning'] = pd.to_numeric(df['% High Meaning'], errors='coerce')"
   ]
  },
  {
   "cell_type": "code",
   "execution_count": 142,
   "id": "ef152d95",
   "metadata": {},
   "outputs": [],
   "source": [
    "df['% High Meaning'] = df['% High Meaning'].replace('-', pd.NA).astype(float)"
   ]
  },
  {
   "cell_type": "code",
   "execution_count": 143,
   "id": "25f3a0a4",
   "metadata": {},
   "outputs": [
    {
     "name": "stdout",
     "output_type": "stream",
     "text": [
      "<class 'pandas.core.frame.DataFrame'>\n",
      "RangeIndex: 763 entries, 0 to 762\n",
      "Data columns (total 6 columns):\n",
      " #   Column            Non-Null Count  Dtype  \n",
      "---  ------            --------------  -----  \n",
      " 0   Rank              763 non-null    int64  \n",
      " 1   Major             763 non-null    object \n",
      " 2   Degree Type       763 non-null    object \n",
      " 3   Early Career Pay  763 non-null    int32  \n",
      " 4   Mid-Career Pay    763 non-null    int32  \n",
      " 5   % High Meaning    708 non-null    float64\n",
      "dtypes: float64(1), int32(2), int64(1), object(2)\n",
      "memory usage: 29.9+ KB\n"
     ]
    }
   ],
   "source": [
    "## We can still make ti work as a float\n",
    "df.info()"
   ]
  },
  {
   "cell_type": "code",
   "execution_count": 144,
   "id": "00139184",
   "metadata": {},
   "outputs": [
    {
     "data": {
      "text/html": [
       "<div>\n",
       "<style scoped>\n",
       "    .dataframe tbody tr th:only-of-type {\n",
       "        vertical-align: middle;\n",
       "    }\n",
       "\n",
       "    .dataframe tbody tr th {\n",
       "        vertical-align: top;\n",
       "    }\n",
       "\n",
       "    .dataframe thead th {\n",
       "        text-align: right;\n",
       "    }\n",
       "</style>\n",
       "<table border=\"1\" class=\"dataframe\">\n",
       "  <thead>\n",
       "    <tr style=\"text-align: right;\">\n",
       "      <th></th>\n",
       "      <th>Rank</th>\n",
       "      <th>Major</th>\n",
       "      <th>Degree Type</th>\n",
       "      <th>Early Career Pay</th>\n",
       "      <th>Mid-Career Pay</th>\n",
       "      <th>% High Meaning</th>\n",
       "    </tr>\n",
       "  </thead>\n",
       "  <tbody>\n",
       "    <tr>\n",
       "      <th>0</th>\n",
       "      <td>1</td>\n",
       "      <td>Petroleum Engineering</td>\n",
       "      <td>Bachelors</td>\n",
       "      <td>98100</td>\n",
       "      <td>212100</td>\n",
       "      <td>60.0</td>\n",
       "    </tr>\n",
       "    <tr>\n",
       "      <th>1</th>\n",
       "      <td>2</td>\n",
       "      <td>Operations Research &amp; Industrial Engineering</td>\n",
       "      <td>Bachelors</td>\n",
       "      <td>101200</td>\n",
       "      <td>202600</td>\n",
       "      <td>21.0</td>\n",
       "    </tr>\n",
       "    <tr>\n",
       "      <th>2</th>\n",
       "      <td>3</td>\n",
       "      <td>Electrical Engineering &amp; Computer Science (EECS)</td>\n",
       "      <td>Bachelors</td>\n",
       "      <td>128500</td>\n",
       "      <td>192300</td>\n",
       "      <td>45.0</td>\n",
       "    </tr>\n",
       "    <tr>\n",
       "      <th>3</th>\n",
       "      <td>4</td>\n",
       "      <td>Interaction Design</td>\n",
       "      <td>Bachelors</td>\n",
       "      <td>77400</td>\n",
       "      <td>178800</td>\n",
       "      <td>55.0</td>\n",
       "    </tr>\n",
       "    <tr>\n",
       "      <th>4</th>\n",
       "      <td>5</td>\n",
       "      <td>Building Science</td>\n",
       "      <td>Bachelors</td>\n",
       "      <td>71100</td>\n",
       "      <td>172400</td>\n",
       "      <td>46.0</td>\n",
       "    </tr>\n",
       "  </tbody>\n",
       "</table>\n",
       "</div>"
      ],
      "text/plain": [
       "   Rank                                             Major Degree Type  \\\n",
       "0     1                             Petroleum Engineering   Bachelors   \n",
       "1     2      Operations Research & Industrial Engineering   Bachelors   \n",
       "2     3  Electrical Engineering & Computer Science (EECS)   Bachelors   \n",
       "3     4                                Interaction Design   Bachelors   \n",
       "4     5                                  Building Science   Bachelors   \n",
       "\n",
       "   Early Career Pay  Mid-Career Pay  % High Meaning  \n",
       "0             98100          212100            60.0  \n",
       "1            101200          202600            21.0  \n",
       "2            128500          192300            45.0  \n",
       "3             77400          178800            55.0  \n",
       "4             71100          172400            46.0  "
      ]
     },
     "execution_count": 144,
     "metadata": {},
     "output_type": "execute_result"
    }
   ],
   "source": [
    "df.head(5)"
   ]
  },
  {
   "cell_type": "code",
   "execution_count": 145,
   "id": "f505f172",
   "metadata": {},
   "outputs": [],
   "source": [
    "## COver 100 to work with it\n",
    "df['% High Meaning'] = df['% High Meaning']/100"
   ]
  },
  {
   "cell_type": "code",
   "execution_count": 146,
   "id": "cccb9ea5",
   "metadata": {},
   "outputs": [
    {
     "data": {
      "text/plain": [
       "0      0.60\n",
       "1      0.21\n",
       "2      0.45\n",
       "3      0.55\n",
       "4      0.46\n",
       "       ... \n",
       "758    0.50\n",
       "759    0.73\n",
       "760    0.78\n",
       "761    0.78\n",
       "762    0.36\n",
       "Name: % High Meaning, Length: 763, dtype: float64"
      ]
     },
     "execution_count": 146,
     "metadata": {},
     "output_type": "execute_result"
    }
   ],
   "source": [
    "## Checked and it worked\n",
    "df['% High Meaning']"
   ]
  },
  {
   "cell_type": "code",
   "execution_count": 147,
   "id": "4b14083f",
   "metadata": {},
   "outputs": [
    {
     "data": {
      "text/html": [
       "<div>\n",
       "<style scoped>\n",
       "    .dataframe tbody tr th:only-of-type {\n",
       "        vertical-align: middle;\n",
       "    }\n",
       "\n",
       "    .dataframe tbody tr th {\n",
       "        vertical-align: top;\n",
       "    }\n",
       "\n",
       "    .dataframe thead th {\n",
       "        text-align: right;\n",
       "    }\n",
       "</style>\n",
       "<table border=\"1\" class=\"dataframe\">\n",
       "  <thead>\n",
       "    <tr style=\"text-align: right;\">\n",
       "      <th></th>\n",
       "      <th>Rank</th>\n",
       "      <th>Major</th>\n",
       "      <th>Degree Type</th>\n",
       "      <th>Early Career Pay</th>\n",
       "      <th>Mid-Career Pay</th>\n",
       "      <th>% High Meaning</th>\n",
       "    </tr>\n",
       "  </thead>\n",
       "  <tbody>\n",
       "    <tr>\n",
       "      <th>0</th>\n",
       "      <td>1</td>\n",
       "      <td>Petroleum Engineering</td>\n",
       "      <td>Bachelors</td>\n",
       "      <td>98100</td>\n",
       "      <td>212100</td>\n",
       "      <td>0.60</td>\n",
       "    </tr>\n",
       "    <tr>\n",
       "      <th>1</th>\n",
       "      <td>2</td>\n",
       "      <td>Operations Research &amp; Industrial Engineering</td>\n",
       "      <td>Bachelors</td>\n",
       "      <td>101200</td>\n",
       "      <td>202600</td>\n",
       "      <td>0.21</td>\n",
       "    </tr>\n",
       "    <tr>\n",
       "      <th>2</th>\n",
       "      <td>3</td>\n",
       "      <td>Electrical Engineering &amp; Computer Science (EECS)</td>\n",
       "      <td>Bachelors</td>\n",
       "      <td>128500</td>\n",
       "      <td>192300</td>\n",
       "      <td>0.45</td>\n",
       "    </tr>\n",
       "    <tr>\n",
       "      <th>3</th>\n",
       "      <td>4</td>\n",
       "      <td>Interaction Design</td>\n",
       "      <td>Bachelors</td>\n",
       "      <td>77400</td>\n",
       "      <td>178800</td>\n",
       "      <td>0.55</td>\n",
       "    </tr>\n",
       "    <tr>\n",
       "      <th>4</th>\n",
       "      <td>5</td>\n",
       "      <td>Building Science</td>\n",
       "      <td>Bachelors</td>\n",
       "      <td>71100</td>\n",
       "      <td>172400</td>\n",
       "      <td>0.46</td>\n",
       "    </tr>\n",
       "    <tr>\n",
       "      <th>...</th>\n",
       "      <td>...</td>\n",
       "      <td>...</td>\n",
       "      <td>...</td>\n",
       "      <td>...</td>\n",
       "      <td>...</td>\n",
       "      <td>...</td>\n",
       "    </tr>\n",
       "    <tr>\n",
       "      <th>758</th>\n",
       "      <td>759</td>\n",
       "      <td>Equine Studies</td>\n",
       "      <td>Bachelors</td>\n",
       "      <td>42300</td>\n",
       "      <td>54100</td>\n",
       "      <td>0.50</td>\n",
       "    </tr>\n",
       "    <tr>\n",
       "      <th>759</th>\n",
       "      <td>760</td>\n",
       "      <td>Nonprofit Administration</td>\n",
       "      <td>Bachelors</td>\n",
       "      <td>43900</td>\n",
       "      <td>53700</td>\n",
       "      <td>0.73</td>\n",
       "    </tr>\n",
       "    <tr>\n",
       "      <th>760</th>\n",
       "      <td>761</td>\n",
       "      <td>Addictions Counseling</td>\n",
       "      <td>Bachelors</td>\n",
       "      <td>47300</td>\n",
       "      <td>52400</td>\n",
       "      <td>0.78</td>\n",
       "    </tr>\n",
       "    <tr>\n",
       "      <th>761</th>\n",
       "      <td>762</td>\n",
       "      <td>Early Childhood Education</td>\n",
       "      <td>Bachelors</td>\n",
       "      <td>43400</td>\n",
       "      <td>52200</td>\n",
       "      <td>0.78</td>\n",
       "    </tr>\n",
       "    <tr>\n",
       "      <th>762</th>\n",
       "      <td>763</td>\n",
       "      <td>Metalsmithing</td>\n",
       "      <td>Bachelors</td>\n",
       "      <td>45900</td>\n",
       "      <td>46600</td>\n",
       "      <td>0.36</td>\n",
       "    </tr>\n",
       "  </tbody>\n",
       "</table>\n",
       "<p>763 rows × 6 columns</p>\n",
       "</div>"
      ],
      "text/plain": [
       "     Rank                                             Major Degree Type  \\\n",
       "0       1                             Petroleum Engineering   Bachelors   \n",
       "1       2      Operations Research & Industrial Engineering   Bachelors   \n",
       "2       3  Electrical Engineering & Computer Science (EECS)   Bachelors   \n",
       "3       4                                Interaction Design   Bachelors   \n",
       "4       5                                  Building Science   Bachelors   \n",
       "..    ...                                               ...         ...   \n",
       "758   759                                    Equine Studies   Bachelors   \n",
       "759   760                          Nonprofit Administration   Bachelors   \n",
       "760   761                             Addictions Counseling   Bachelors   \n",
       "761   762                         Early Childhood Education   Bachelors   \n",
       "762   763                                     Metalsmithing   Bachelors   \n",
       "\n",
       "     Early Career Pay  Mid-Career Pay  % High Meaning  \n",
       "0               98100          212100            0.60  \n",
       "1              101200          202600            0.21  \n",
       "2              128500          192300            0.45  \n",
       "3               77400          178800            0.55  \n",
       "4               71100          172400            0.46  \n",
       "..                ...             ...             ...  \n",
       "758             42300           54100            0.50  \n",
       "759             43900           53700            0.73  \n",
       "760             47300           52400            0.78  \n",
       "761             43400           52200            0.78  \n",
       "762             45900           46600            0.36  \n",
       "\n",
       "[763 rows x 6 columns]"
      ]
     },
     "execution_count": 147,
     "metadata": {},
     "output_type": "execute_result"
    }
   ],
   "source": [
    "## Look at my dataset after conversion\n",
    "df"
   ]
  },
  {
   "cell_type": "code",
   "execution_count": 148,
   "id": "ad5e3d80",
   "metadata": {},
   "outputs": [
    {
     "data": {
      "text/plain": [
       "Major\n",
       "Electrical Engineering & Computer Science (EECS)    128500\n",
       "Operations Research & Industrial Engineering        101200\n",
       "Petroleum Engineering                                98100\n",
       "Nuclear Engineering Technology (NET)                 96500\n",
       "Operations Research                                  94900\n",
       "                                                     ...  \n",
       "Child & Family Studies                               42900\n",
       "Ministry                                             42700\n",
       "Equine Studies                                       42300\n",
       "Painting & Printmaking                               40500\n",
       "Voice & Opera                                        39600\n",
       "Name: Early Career Pay, Length: 763, dtype: int32"
      ]
     },
     "execution_count": 148,
     "metadata": {},
     "output_type": "execute_result"
    }
   ],
   "source": [
    "## Now, onto the ufn part, lets try to find some insights!\n",
    "early_pay_by_major = df.groupby('Major')['Early Career Pay'].sum().sort_values(ascending = False)\n",
    "early_pay_by_major"
   ]
  },
  {
   "cell_type": "code",
   "execution_count": 152,
   "id": "ea46f9a2",
   "metadata": {},
   "outputs": [
    {
     "data": {
      "text/plain": [
       "Major\n",
       "Electrical & Computer Engineering (ECE)              91100\n",
       "Robotics                                             91100\n",
       "Computer Engineering (CE)                            92000\n",
       "Metallurgical Engineering                            93200\n",
       "Computer Science (CS) & Engineering                  93500\n",
       "Operations Research                                  94900\n",
       "Nuclear Engineering Technology (NET)                 96500\n",
       "Petroleum Engineering                                98100\n",
       "Operations Research & Industrial Engineering        101200\n",
       "Electrical Engineering & Computer Science (EECS)    128500\n",
       "Name: Early Career Pay, dtype: int32"
      ]
     },
     "execution_count": 152,
     "metadata": {},
     "output_type": "execute_result"
    }
   ],
   "source": [
    "#3 Getting top 10 major by Early Career Pay and ascending as true so graph reads better\n",
    "early_pay_by_major_top10 = early_pay_by_major.head(10).sort_values(ascending=True)\n",
    "early_pay_by_major_top10"
   ]
  },
  {
   "cell_type": "code",
   "execution_count": 160,
   "id": "289033b6",
   "metadata": {},
   "outputs": [
    {
     "data": {
      "text/plain": [
       "Index(['Major', 'Early Career Pay'], dtype='object')"
      ]
     },
     "execution_count": 160,
     "metadata": {},
     "output_type": "execute_result"
    }
   ],
   "source": [
    "## Converting into Dataframe\n",
    "early_pay_by_major_top10 = early_pay_by_major.head(10).sort_values(ascending=True).reset_index()\n",
    "early_pay_by_major_top10.columns"
   ]
  },
  {
   "cell_type": "code",
   "execution_count": 150,
   "id": "58be9e00",
   "metadata": {},
   "outputs": [],
   "source": [
    "## set white grid\n",
    "sns.set_style('whitegrid')"
   ]
  },
  {
   "cell_type": "code",
   "execution_count": 161,
   "id": "1d2f45bb",
   "metadata": {},
   "outputs": [
    {
     "data": {
      "image/png": "[encoded data removed]",
      "text/plain": [
       "<Figure size 1200x600 with 1 Axes>"
      ]
     },
     "metadata": {},
     "output_type": "display_data"
    }
   ],
   "source": [
    "## Lets graph the earnings by major visually\n",
    "plt.figure(figsize=(12,6))\n",
    "sns.barplot(data=early_pay_by_major_top10, x='Major', y='Early Career Pay', palette='viridis')\n",
    "plt.xticks(rotation = 90)\n",
    "plt.title('Early Career Pay Top 10 Majors',fontsize = 18, fontweight = 'bold')\n",
    "plt.xlabel('Major',fontsize = 14, labelpad = 10)\n",
    "plt.ylabel('Early Career Pay in USD',fontsize = 14, labelpad = 10)\n",
    "plt.show()"
   ]
  },
  {
   "cell_type": "code",
   "execution_count": 93,
   "id": "a7427eb2",
   "metadata": {},
   "outputs": [
    {
     "data": {
      "text/plain": [
       "Major\n",
       "Child Development          43400\n",
       "Outdoor Education          43400\n",
       "Legal Assistant Studies    43300\n",
       "Deaf Studies               43300\n",
       "Church Ministries          43300\n",
       "Child & Family Studies     42900\n",
       "Ministry                   42700\n",
       "Equine Studies             42300\n",
       "Painting & Printmaking     40500\n",
       "Voice & Opera              39600\n",
       "Name: Early Career Pay, dtype: int32"
      ]
     },
     "execution_count": 93,
     "metadata": {},
     "output_type": "execute_result"
    }
   ],
   "source": [
    "## Early Career Pay, worse paying college majors\n",
    "early_pay_by_major_bottom10 = early_pay_by_major.tail(10).sort_values(ascending=False)\n",
    "early_pay_by_major_bottom10"
   ]
  },
  {
   "cell_type": "code",
   "execution_count": 164,
   "id": "afd2ae0a",
   "metadata": {},
   "outputs": [],
   "source": [
    "## Converting into Dataframe\n",
    "early_pay_by_major_bottom10 = early_pay_by_major.tail(10).sort_values(ascending=True).reset_index()"
   ]
  },
  {
   "cell_type": "code",
   "execution_count": 165,
   "id": "be817fbd",
   "metadata": {},
   "outputs": [
    {
     "data": {
      "image/png": "[encoded data removed]",
      "text/plain": [
       "<Figure size 1200x600 with 1 Axes>"
      ]
     },
     "metadata": {},
     "output_type": "display_data"
    }
   ],
   "source": [
    "## Lets graph the earnings by major visually\n",
    "plt.figure(figsize=(12,6))\n",
    "sns.barplot(data=early_pay_by_major_bottom10, x='Major', y='Early Career Pay', palette='viridis')\n",
    "plt.xticks(rotation = 90)\n",
    "plt.title('Early Career Pay Bottom 10 Majors',fontsize = 18, fontweight = 'bold')\n",
    "plt.xlabel('Major',fontsize = 14, labelpad = 10)\n",
    "plt.ylabel('Early Career Pay in USD',fontsize = 14, labelpad = 10)\n",
    "plt.show()"
   ]
  },
  {
   "cell_type": "code",
   "execution_count": 166,
   "id": "b1af9e11",
   "metadata": {},
   "outputs": [
    {
     "data": {
      "text/html": [
       "<div>\n",
       "<style scoped>\n",
       "    .dataframe tbody tr th:only-of-type {\n",
       "        vertical-align: middle;\n",
       "    }\n",
       "\n",
       "    .dataframe tbody tr th {\n",
       "        vertical-align: top;\n",
       "    }\n",
       "\n",
       "    .dataframe thead th {\n",
       "        text-align: right;\n",
       "    }\n",
       "</style>\n",
       "<table border=\"1\" class=\"dataframe\">\n",
       "  <thead>\n",
       "    <tr style=\"text-align: right;\">\n",
       "      <th></th>\n",
       "      <th>Rank</th>\n",
       "      <th>Major</th>\n",
       "      <th>Degree Type</th>\n",
       "      <th>Early Career Pay</th>\n",
       "      <th>Mid-Career Pay</th>\n",
       "      <th>% High Meaning</th>\n",
       "    </tr>\n",
       "  </thead>\n",
       "  <tbody>\n",
       "    <tr>\n",
       "      <th>0</th>\n",
       "      <td>1</td>\n",
       "      <td>Petroleum Engineering</td>\n",
       "      <td>Bachelors</td>\n",
       "      <td>98100</td>\n",
       "      <td>212100</td>\n",
       "      <td>0.60</td>\n",
       "    </tr>\n",
       "    <tr>\n",
       "      <th>1</th>\n",
       "      <td>2</td>\n",
       "      <td>Operations Research &amp; Industrial Engineering</td>\n",
       "      <td>Bachelors</td>\n",
       "      <td>101200</td>\n",
       "      <td>202600</td>\n",
       "      <td>0.21</td>\n",
       "    </tr>\n",
       "    <tr>\n",
       "      <th>2</th>\n",
       "      <td>3</td>\n",
       "      <td>Electrical Engineering &amp; Computer Science (EECS)</td>\n",
       "      <td>Bachelors</td>\n",
       "      <td>128500</td>\n",
       "      <td>192300</td>\n",
       "      <td>0.45</td>\n",
       "    </tr>\n",
       "    <tr>\n",
       "      <th>3</th>\n",
       "      <td>4</td>\n",
       "      <td>Interaction Design</td>\n",
       "      <td>Bachelors</td>\n",
       "      <td>77400</td>\n",
       "      <td>178800</td>\n",
       "      <td>0.55</td>\n",
       "    </tr>\n",
       "    <tr>\n",
       "      <th>4</th>\n",
       "      <td>5</td>\n",
       "      <td>Building Science</td>\n",
       "      <td>Bachelors</td>\n",
       "      <td>71100</td>\n",
       "      <td>172400</td>\n",
       "      <td>0.46</td>\n",
       "    </tr>\n",
       "    <tr>\n",
       "      <th>...</th>\n",
       "      <td>...</td>\n",
       "      <td>...</td>\n",
       "      <td>...</td>\n",
       "      <td>...</td>\n",
       "      <td>...</td>\n",
       "      <td>...</td>\n",
       "    </tr>\n",
       "    <tr>\n",
       "      <th>758</th>\n",
       "      <td>759</td>\n",
       "      <td>Equine Studies</td>\n",
       "      <td>Bachelors</td>\n",
       "      <td>42300</td>\n",
       "      <td>54100</td>\n",
       "      <td>0.50</td>\n",
       "    </tr>\n",
       "    <tr>\n",
       "      <th>759</th>\n",
       "      <td>760</td>\n",
       "      <td>Nonprofit Administration</td>\n",
       "      <td>Bachelors</td>\n",
       "      <td>43900</td>\n",
       "      <td>53700</td>\n",
       "      <td>0.73</td>\n",
       "    </tr>\n",
       "    <tr>\n",
       "      <th>760</th>\n",
       "      <td>761</td>\n",
       "      <td>Addictions Counseling</td>\n",
       "      <td>Bachelors</td>\n",
       "      <td>47300</td>\n",
       "      <td>52400</td>\n",
       "      <td>0.78</td>\n",
       "    </tr>\n",
       "    <tr>\n",
       "      <th>761</th>\n",
       "      <td>762</td>\n",
       "      <td>Early Childhood Education</td>\n",
       "      <td>Bachelors</td>\n",
       "      <td>43400</td>\n",
       "      <td>52200</td>\n",
       "      <td>0.78</td>\n",
       "    </tr>\n",
       "    <tr>\n",
       "      <th>762</th>\n",
       "      <td>763</td>\n",
       "      <td>Metalsmithing</td>\n",
       "      <td>Bachelors</td>\n",
       "      <td>45900</td>\n",
       "      <td>46600</td>\n",
       "      <td>0.36</td>\n",
       "    </tr>\n",
       "  </tbody>\n",
       "</table>\n",
       "<p>763 rows × 6 columns</p>\n",
       "</div>"
      ],
      "text/plain": [
       "     Rank                                             Major Degree Type  \\\n",
       "0       1                             Petroleum Engineering   Bachelors   \n",
       "1       2      Operations Research & Industrial Engineering   Bachelors   \n",
       "2       3  Electrical Engineering & Computer Science (EECS)   Bachelors   \n",
       "3       4                                Interaction Design   Bachelors   \n",
       "4       5                                  Building Science   Bachelors   \n",
       "..    ...                                               ...         ...   \n",
       "758   759                                    Equine Studies   Bachelors   \n",
       "759   760                          Nonprofit Administration   Bachelors   \n",
       "760   761                             Addictions Counseling   Bachelors   \n",
       "761   762                         Early Childhood Education   Bachelors   \n",
       "762   763                                     Metalsmithing   Bachelors   \n",
       "\n",
       "     Early Career Pay  Mid-Career Pay  % High Meaning  \n",
       "0               98100          212100            0.60  \n",
       "1              101200          202600            0.21  \n",
       "2              128500          192300            0.45  \n",
       "3               77400          178800            0.55  \n",
       "4               71100          172400            0.46  \n",
       "..                ...             ...             ...  \n",
       "758             42300           54100            0.50  \n",
       "759             43900           53700            0.73  \n",
       "760             47300           52400            0.78  \n",
       "761             43400           52200            0.78  \n",
       "762             45900           46600            0.36  \n",
       "\n",
       "[763 rows x 6 columns]"
      ]
     },
     "execution_count": 166,
     "metadata": {},
     "output_type": "execute_result"
    }
   ],
   "source": [
    "## Keep exploring Dataset\n",
    "df"
   ]
  },
  {
   "cell_type": "code",
   "execution_count": 167,
   "id": "c73b41be",
   "metadata": {},
   "outputs": [
    {
     "data": {
      "text/plain": [
       "array(['Bachelors'], dtype=object)"
      ]
     },
     "execution_count": 167,
     "metadata": {},
     "output_type": "execute_result"
    }
   ],
   "source": [
    "## We are only working with Bachelors level data\n",
    "df['Degree Type'].nunique()\n",
    "df['Degree Type'].unique()"
   ]
  },
  {
   "cell_type": "code",
   "execution_count": 168,
   "id": "73c2edd2",
   "metadata": {},
   "outputs": [
    {
     "data": {
      "text/plain": [
       "Major\n",
       "3D Animation                         0.43\n",
       "Accounting                           0.42\n",
       "Accounting & Auditing                0.42\n",
       "Accounting & Business                0.49\n",
       "Accounting & Computer Systems         NaN\n",
       "                                     ... \n",
       "Women's Studies                      0.60\n",
       "Workforce Education & Development    0.77\n",
       "Writing                              0.45\n",
       "Youth Ministry                       0.76\n",
       "Zoology                              0.67\n",
       "Name: % High Meaning, Length: 763, dtype: float64"
      ]
     },
     "execution_count": 168,
     "metadata": {},
     "output_type": "execute_result"
    }
   ],
   "source": [
    "## Which Major has the highest Meaning Level\n",
    "meaning_major = df.groupby('Major')['% High Meaning'].mean()\n",
    "meaning_major"
   ]
  },
  {
   "cell_type": "code",
   "execution_count": 169,
   "id": "15d9fa9c",
   "metadata": {},
   "outputs": [
    {
     "data": {
      "text/plain": [
       "Major\n",
       "3D Animation                     0.43\n",
       "Accounting                       0.42\n",
       "Accounting & Auditing            0.42\n",
       "Accounting & Business            0.49\n",
       "Accounting & Computer Systems     NaN\n",
       "Name: % High Meaning, dtype: float64"
      ]
     },
     "execution_count": 169,
     "metadata": {},
     "output_type": "execute_result"
    }
   ],
   "source": [
    "## Some meaning Values are 0, which can't be\n",
    "## I mean they could be, but Im going to remove them from my analysis to get the lowest ones\n",
    "meaning_major.head()"
   ]
  },
  {
   "cell_type": "code",
   "execution_count": 170,
   "id": "0c211a12",
   "metadata": {},
   "outputs": [
    {
     "data": {
      "text/plain": [
       "Major\n",
       "3D Animation                         0.43\n",
       "Accounting                           0.42\n",
       "Accounting & Auditing                0.42\n",
       "Accounting & Business                0.49\n",
       "Accounting & Economics               0.50\n",
       "                                     ... \n",
       "Women's Studies                      0.60\n",
       "Workforce Education & Development    0.77\n",
       "Writing                              0.45\n",
       "Youth Ministry                       0.76\n",
       "Zoology                              0.67\n",
       "Name: % High Meaning, Length: 708, dtype: float64"
      ]
     },
     "execution_count": 170,
     "metadata": {},
     "output_type": "execute_result"
    }
   ],
   "source": [
    "## Have to give columns names to drop where the value is 0 \n",
    "meaning_major.head().sort_values(ascending = False)\n",
    "## Dropped na values to graph\n",
    "meaning_major.dropna()"
   ]
  },
  {
   "cell_type": "code",
   "execution_count": 171,
   "id": "20e6b0c6",
   "metadata": {},
   "outputs": [
    {
     "data": {
      "text/plain": [
       "Major\n",
       "Accounting & Business            0.49\n",
       "3D Animation                     0.43\n",
       "Accounting                       0.42\n",
       "Accounting & Auditing            0.42\n",
       "Accounting & Computer Systems     NaN\n",
       "Name: % High Meaning, dtype: float64"
      ]
     },
     "execution_count": 171,
     "metadata": {},
     "output_type": "execute_result"
    }
   ],
   "source": [
    "meaning_major.head().sort_values(ascending = False)"
   ]
  },
  {
   "cell_type": "code",
   "execution_count": 172,
   "id": "a6ed4cee",
   "metadata": {},
   "outputs": [
    {
     "data": {
      "text/plain": [
       "55"
      ]
     },
     "execution_count": 172,
     "metadata": {},
     "output_type": "execute_result"
    }
   ],
   "source": [
    "## Dropping na values, this didnt work\n",
    "meaning_major.isnull().sum()\n",
    "meaning_major.dropna()\n",
    "meaning_major.isnull().sum()"
   ]
  },
  {
   "cell_type": "code",
   "execution_count": 173,
   "id": "0e39e8e0",
   "metadata": {},
   "outputs": [
    {
     "data": {
      "text/plain": [
       "0"
      ]
     },
     "execution_count": 173,
     "metadata": {},
     "output_type": "execute_result"
    }
   ],
   "source": [
    "## I need to modify the actual Dataframe, this did work\n",
    "meaning_major = meaning_major.dropna()\n",
    "meaning_major.isnull().sum()"
   ]
  },
  {
   "cell_type": "code",
   "execution_count": 174,
   "id": "6dc2a1bf",
   "metadata": {},
   "outputs": [
    {
     "data": {
      "text/plain": [
       "Major\n",
       "Music Therapy                     0.95\n",
       "Cardiopulmonary Science           0.92\n",
       "Radiation Therapy                 0.91\n",
       "Applied Behavior Analysis         0.88\n",
       "Bachelor of Science in Nursing    0.88\n",
       "Physical Therapy                  0.88\n",
       "Bachelor in Science Nursing       0.87\n",
       "Health Services Management        0.87\n",
       "Medical Laboratory Science        0.86\n",
       "Occupational Therapy (OT)         0.86\n",
       "Name: % High Meaning, dtype: float64"
      ]
     },
     "execution_count": 174,
     "metadata": {},
     "output_type": "execute_result"
    }
   ],
   "source": [
    "## Getting 10 Top Majors by Meaning\n",
    "top10_Majors_meaning = meaning_major.nlargest(10)\n",
    "top10_Majors_meaning"
   ]
  },
  {
   "cell_type": "code",
   "execution_count": 176,
   "id": "0574cda0",
   "metadata": {},
   "outputs": [],
   "source": [
    "## converting to Dataframe\n",
    "top10_Majors_meaning = meaning_major.nlargest(10).sort_values(ascending=True).reset_index()"
   ]
  },
  {
   "cell_type": "code",
   "execution_count": 177,
   "id": "acb4f1e6",
   "metadata": {},
   "outputs": [
    {
     "data": {
      "image/png": "[encoded data removed]",
      "text/plain": [
       "<Figure size 1200x600 with 1 Axes>"
      ]
     },
     "metadata": {},
     "output_type": "display_data"
    }
   ],
   "source": [
    "## Graphing Top 10 Majors by Meaning\n",
    "plt.figure(figsize=(12,6))\n",
    "sns.barplot(data=top10_Majors_meaning, x='Major', y='% High Meaning', palette='viridis')\n",
    "plt.xticks(rotation = 90)\n",
    "plt.title('Top 10 Majors by Meaning',fontsize = 18, fontweight = 'bold')\n",
    "plt.xlabel('Major',fontsize = 14, labelpad = 10)\n",
    "plt.ylabel('Meaning',fontsize = 14, labelpad = 10)\n",
    "plt.show()"
   ]
  },
  {
   "cell_type": "code",
   "execution_count": 105,
   "id": "698590e7",
   "metadata": {},
   "outputs": [
    {
     "data": {
      "text/plain": [
       "Major\n",
       "Digital Media Design                            0.27\n",
       "Fashion Marketing & Management                  0.27\n",
       "International Business & Finance                0.27\n",
       "Commercial Photography                          0.26\n",
       "Retail & Consumer Science                       0.26\n",
       "Textile & Apparel Studies                       0.24\n",
       "International Trade & Business                  0.23\n",
       "International Marketing                         0.21\n",
       "Operations Research & Industrial Engineering    0.21\n",
       "Japanese Studies                                0.18\n",
       "Name: % High Meaning, dtype: float64"
      ]
     },
     "execution_count": 105,
     "metadata": {},
     "output_type": "execute_result"
    }
   ],
   "source": [
    "## Repeating process for bottom 10, I Flip it so its eassier to read\n",
    "bottom10_Majors_meaning = meaning_major.nsmallest(10).sort_values(ascending=False)\n",
    "bottom10_Majors_meaning"
   ]
  },
  {
   "cell_type": "code",
   "execution_count": 178,
   "id": "9f597a7a",
   "metadata": {},
   "outputs": [],
   "source": [
    "bottom10_Majors_meaning = meaning_major.nsmallest(10).sort_values(ascending=True).reset_index()"
   ]
  },
  {
   "cell_type": "code",
   "execution_count": 179,
   "id": "58d311b0",
   "metadata": {},
   "outputs": [
    {
     "data": {
      "image/png": "[encoded data removed]",
      "text/plain": [
       "<Figure size 1200x600 with 1 Axes>"
      ]
     },
     "metadata": {},
     "output_type": "display_data"
    }
   ],
   "source": [
    "## Graphing Bottom 10 Majors by Meaning\n",
    "plt.figure(figsize=(12,6))\n",
    "sns.barplot(data=bottom10_Majors_meaning, x='Major', y='% High Meaning', palette='viridis')\n",
    "plt.xticks(rotation = 90)\n",
    "plt.title('Bottom 10 Majors by Meaning',fontsize = 18, fontweight = 'bold')\n",
    "plt.xlabel('Major',fontsize = 14, labelpad = 10)\n",
    "plt.ylabel('Meaning',fontsize = 14, labelpad = 10)\n",
    "plt.show()"
   ]
  },
  {
   "cell_type": "code",
   "execution_count": 180,
   "id": "340d7669",
   "metadata": {},
   "outputs": [
    {
     "data": {
      "text/html": [
       "<div>\n",
       "<style scoped>\n",
       "    .dataframe tbody tr th:only-of-type {\n",
       "        vertical-align: middle;\n",
       "    }\n",
       "\n",
       "    .dataframe tbody tr th {\n",
       "        vertical-align: top;\n",
       "    }\n",
       "\n",
       "    .dataframe thead th {\n",
       "        text-align: right;\n",
       "    }\n",
       "</style>\n",
       "<table border=\"1\" class=\"dataframe\">\n",
       "  <thead>\n",
       "    <tr style=\"text-align: right;\">\n",
       "      <th></th>\n",
       "      <th>Rank</th>\n",
       "      <th>Major</th>\n",
       "      <th>Degree Type</th>\n",
       "      <th>Early Career Pay</th>\n",
       "      <th>Mid-Career Pay</th>\n",
       "      <th>% High Meaning</th>\n",
       "    </tr>\n",
       "  </thead>\n",
       "  <tbody>\n",
       "    <tr>\n",
       "      <th>0</th>\n",
       "      <td>1</td>\n",
       "      <td>Petroleum Engineering</td>\n",
       "      <td>Bachelors</td>\n",
       "      <td>98100</td>\n",
       "      <td>212100</td>\n",
       "      <td>0.60</td>\n",
       "    </tr>\n",
       "    <tr>\n",
       "      <th>1</th>\n",
       "      <td>2</td>\n",
       "      <td>Operations Research &amp; Industrial Engineering</td>\n",
       "      <td>Bachelors</td>\n",
       "      <td>101200</td>\n",
       "      <td>202600</td>\n",
       "      <td>0.21</td>\n",
       "    </tr>\n",
       "    <tr>\n",
       "      <th>2</th>\n",
       "      <td>3</td>\n",
       "      <td>Electrical Engineering &amp; Computer Science (EECS)</td>\n",
       "      <td>Bachelors</td>\n",
       "      <td>128500</td>\n",
       "      <td>192300</td>\n",
       "      <td>0.45</td>\n",
       "    </tr>\n",
       "    <tr>\n",
       "      <th>3</th>\n",
       "      <td>4</td>\n",
       "      <td>Interaction Design</td>\n",
       "      <td>Bachelors</td>\n",
       "      <td>77400</td>\n",
       "      <td>178800</td>\n",
       "      <td>0.55</td>\n",
       "    </tr>\n",
       "    <tr>\n",
       "      <th>4</th>\n",
       "      <td>5</td>\n",
       "      <td>Building Science</td>\n",
       "      <td>Bachelors</td>\n",
       "      <td>71100</td>\n",
       "      <td>172400</td>\n",
       "      <td>0.46</td>\n",
       "    </tr>\n",
       "    <tr>\n",
       "      <th>...</th>\n",
       "      <td>...</td>\n",
       "      <td>...</td>\n",
       "      <td>...</td>\n",
       "      <td>...</td>\n",
       "      <td>...</td>\n",
       "      <td>...</td>\n",
       "    </tr>\n",
       "    <tr>\n",
       "      <th>758</th>\n",
       "      <td>759</td>\n",
       "      <td>Equine Studies</td>\n",
       "      <td>Bachelors</td>\n",
       "      <td>42300</td>\n",
       "      <td>54100</td>\n",
       "      <td>0.50</td>\n",
       "    </tr>\n",
       "    <tr>\n",
       "      <th>759</th>\n",
       "      <td>760</td>\n",
       "      <td>Nonprofit Administration</td>\n",
       "      <td>Bachelors</td>\n",
       "      <td>43900</td>\n",
       "      <td>53700</td>\n",
       "      <td>0.73</td>\n",
       "    </tr>\n",
       "    <tr>\n",
       "      <th>760</th>\n",
       "      <td>761</td>\n",
       "      <td>Addictions Counseling</td>\n",
       "      <td>Bachelors</td>\n",
       "      <td>47300</td>\n",
       "      <td>52400</td>\n",
       "      <td>0.78</td>\n",
       "    </tr>\n",
       "    <tr>\n",
       "      <th>761</th>\n",
       "      <td>762</td>\n",
       "      <td>Early Childhood Education</td>\n",
       "      <td>Bachelors</td>\n",
       "      <td>43400</td>\n",
       "      <td>52200</td>\n",
       "      <td>0.78</td>\n",
       "    </tr>\n",
       "    <tr>\n",
       "      <th>762</th>\n",
       "      <td>763</td>\n",
       "      <td>Metalsmithing</td>\n",
       "      <td>Bachelors</td>\n",
       "      <td>45900</td>\n",
       "      <td>46600</td>\n",
       "      <td>0.36</td>\n",
       "    </tr>\n",
       "  </tbody>\n",
       "</table>\n",
       "<p>763 rows × 6 columns</p>\n",
       "</div>"
      ],
      "text/plain": [
       "     Rank                                             Major Degree Type  \\\n",
       "0       1                             Petroleum Engineering   Bachelors   \n",
       "1       2      Operations Research & Industrial Engineering   Bachelors   \n",
       "2       3  Electrical Engineering & Computer Science (EECS)   Bachelors   \n",
       "3       4                                Interaction Design   Bachelors   \n",
       "4       5                                  Building Science   Bachelors   \n",
       "..    ...                                               ...         ...   \n",
       "758   759                                    Equine Studies   Bachelors   \n",
       "759   760                          Nonprofit Administration   Bachelors   \n",
       "760   761                             Addictions Counseling   Bachelors   \n",
       "761   762                         Early Childhood Education   Bachelors   \n",
       "762   763                                     Metalsmithing   Bachelors   \n",
       "\n",
       "     Early Career Pay  Mid-Career Pay  % High Meaning  \n",
       "0               98100          212100            0.60  \n",
       "1              101200          202600            0.21  \n",
       "2              128500          192300            0.45  \n",
       "3               77400          178800            0.55  \n",
       "4               71100          172400            0.46  \n",
       "..                ...             ...             ...  \n",
       "758             42300           54100            0.50  \n",
       "759             43900           53700            0.73  \n",
       "760             47300           52400            0.78  \n",
       "761             43400           52200            0.78  \n",
       "762             45900           46600            0.36  \n",
       "\n",
       "[763 rows x 6 columns]"
      ]
     },
     "execution_count": 180,
     "metadata": {},
     "output_type": "execute_result"
    }
   ],
   "source": [
    "df"
   ]
  },
  {
   "cell_type": "code",
   "execution_count": 181,
   "id": "998fa417",
   "metadata": {},
   "outputs": [],
   "source": [
    "## Difference from Early Career pay to Mid-Career could show progressions\n",
    "df['Growth in Pay'] = df['Mid-Career Pay']- df['Early Career Pay']"
   ]
  },
  {
   "cell_type": "code",
   "execution_count": 182,
   "id": "866c28ec",
   "metadata": {},
   "outputs": [
    {
     "data": {
      "text/html": [
       "<div>\n",
       "<style scoped>\n",
       "    .dataframe tbody tr th:only-of-type {\n",
       "        vertical-align: middle;\n",
       "    }\n",
       "\n",
       "    .dataframe tbody tr th {\n",
       "        vertical-align: top;\n",
       "    }\n",
       "\n",
       "    .dataframe thead th {\n",
       "        text-align: right;\n",
       "    }\n",
       "</style>\n",
       "<table border=\"1\" class=\"dataframe\">\n",
       "  <thead>\n",
       "    <tr style=\"text-align: right;\">\n",
       "      <th></th>\n",
       "      <th>Rank</th>\n",
       "      <th>Major</th>\n",
       "      <th>Degree Type</th>\n",
       "      <th>Early Career Pay</th>\n",
       "      <th>Mid-Career Pay</th>\n",
       "      <th>% High Meaning</th>\n",
       "      <th>Growth in Pay</th>\n",
       "    </tr>\n",
       "  </thead>\n",
       "  <tbody>\n",
       "    <tr>\n",
       "      <th>0</th>\n",
       "      <td>1</td>\n",
       "      <td>Petroleum Engineering</td>\n",
       "      <td>Bachelors</td>\n",
       "      <td>98100</td>\n",
       "      <td>212100</td>\n",
       "      <td>0.60</td>\n",
       "      <td>114000</td>\n",
       "    </tr>\n",
       "    <tr>\n",
       "      <th>1</th>\n",
       "      <td>2</td>\n",
       "      <td>Operations Research &amp; Industrial Engineering</td>\n",
       "      <td>Bachelors</td>\n",
       "      <td>101200</td>\n",
       "      <td>202600</td>\n",
       "      <td>0.21</td>\n",
       "      <td>101400</td>\n",
       "    </tr>\n",
       "    <tr>\n",
       "      <th>2</th>\n",
       "      <td>3</td>\n",
       "      <td>Electrical Engineering &amp; Computer Science (EECS)</td>\n",
       "      <td>Bachelors</td>\n",
       "      <td>128500</td>\n",
       "      <td>192300</td>\n",
       "      <td>0.45</td>\n",
       "      <td>63800</td>\n",
       "    </tr>\n",
       "    <tr>\n",
       "      <th>3</th>\n",
       "      <td>4</td>\n",
       "      <td>Interaction Design</td>\n",
       "      <td>Bachelors</td>\n",
       "      <td>77400</td>\n",
       "      <td>178800</td>\n",
       "      <td>0.55</td>\n",
       "      <td>101400</td>\n",
       "    </tr>\n",
       "    <tr>\n",
       "      <th>4</th>\n",
       "      <td>5</td>\n",
       "      <td>Building Science</td>\n",
       "      <td>Bachelors</td>\n",
       "      <td>71100</td>\n",
       "      <td>172400</td>\n",
       "      <td>0.46</td>\n",
       "      <td>101300</td>\n",
       "    </tr>\n",
       "    <tr>\n",
       "      <th>...</th>\n",
       "      <td>...</td>\n",
       "      <td>...</td>\n",
       "      <td>...</td>\n",
       "      <td>...</td>\n",
       "      <td>...</td>\n",
       "      <td>...</td>\n",
       "      <td>...</td>\n",
       "    </tr>\n",
       "    <tr>\n",
       "      <th>758</th>\n",
       "      <td>759</td>\n",
       "      <td>Equine Studies</td>\n",
       "      <td>Bachelors</td>\n",
       "      <td>42300</td>\n",
       "      <td>54100</td>\n",
       "      <td>0.50</td>\n",
       "      <td>11800</td>\n",
       "    </tr>\n",
       "    <tr>\n",
       "      <th>759</th>\n",
       "      <td>760</td>\n",
       "      <td>Nonprofit Administration</td>\n",
       "      <td>Bachelors</td>\n",
       "      <td>43900</td>\n",
       "      <td>53700</td>\n",
       "      <td>0.73</td>\n",
       "      <td>9800</td>\n",
       "    </tr>\n",
       "    <tr>\n",
       "      <th>760</th>\n",
       "      <td>761</td>\n",
       "      <td>Addictions Counseling</td>\n",
       "      <td>Bachelors</td>\n",
       "      <td>47300</td>\n",
       "      <td>52400</td>\n",
       "      <td>0.78</td>\n",
       "      <td>5100</td>\n",
       "    </tr>\n",
       "    <tr>\n",
       "      <th>761</th>\n",
       "      <td>762</td>\n",
       "      <td>Early Childhood Education</td>\n",
       "      <td>Bachelors</td>\n",
       "      <td>43400</td>\n",
       "      <td>52200</td>\n",
       "      <td>0.78</td>\n",
       "      <td>8800</td>\n",
       "    </tr>\n",
       "    <tr>\n",
       "      <th>762</th>\n",
       "      <td>763</td>\n",
       "      <td>Metalsmithing</td>\n",
       "      <td>Bachelors</td>\n",
       "      <td>45900</td>\n",
       "      <td>46600</td>\n",
       "      <td>0.36</td>\n",
       "      <td>700</td>\n",
       "    </tr>\n",
       "  </tbody>\n",
       "</table>\n",
       "<p>763 rows × 7 columns</p>\n",
       "</div>"
      ],
      "text/plain": [
       "     Rank                                             Major Degree Type  \\\n",
       "0       1                             Petroleum Engineering   Bachelors   \n",
       "1       2      Operations Research & Industrial Engineering   Bachelors   \n",
       "2       3  Electrical Engineering & Computer Science (EECS)   Bachelors   \n",
       "3       4                                Interaction Design   Bachelors   \n",
       "4       5                                  Building Science   Bachelors   \n",
       "..    ...                                               ...         ...   \n",
       "758   759                                    Equine Studies   Bachelors   \n",
       "759   760                          Nonprofit Administration   Bachelors   \n",
       "760   761                             Addictions Counseling   Bachelors   \n",
       "761   762                         Early Childhood Education   Bachelors   \n",
       "762   763                                     Metalsmithing   Bachelors   \n",
       "\n",
       "     Early Career Pay  Mid-Career Pay  % High Meaning  Growth in Pay  \n",
       "0               98100          212100            0.60         114000  \n",
       "1              101200          202600            0.21         101400  \n",
       "2              128500          192300            0.45          63800  \n",
       "3               77400          178800            0.55         101400  \n",
       "4               71100          172400            0.46         101300  \n",
       "..                ...             ...             ...            ...  \n",
       "758             42300           54100            0.50          11800  \n",
       "759             43900           53700            0.73           9800  \n",
       "760             47300           52400            0.78           5100  \n",
       "761             43400           52200            0.78           8800  \n",
       "762             45900           46600            0.36            700  \n",
       "\n",
       "[763 rows x 7 columns]"
      ]
     },
     "execution_count": 182,
     "metadata": {},
     "output_type": "execute_result"
    }
   ],
   "source": [
    "df"
   ]
  },
  {
   "cell_type": "code",
   "execution_count": 183,
   "id": "ff8fc7b8",
   "metadata": {},
   "outputs": [
    {
     "data": {
      "text/plain": [
       "Major\n",
       "3D Animation                         32000\n",
       "Accounting                           44100\n",
       "Accounting & Auditing                46300\n",
       "Accounting & Business                33300\n",
       "Accounting & Computer Systems        29700\n",
       "                                     ...  \n",
       "Women's Studies                      26400\n",
       "Workforce Education & Development    23100\n",
       "Writing                              46700\n",
       "Youth Ministry                       19700\n",
       "Zoology                              40400\n",
       "Name: Growth in Pay, Length: 763, dtype: int32"
      ]
     },
     "execution_count": 183,
     "metadata": {},
     "output_type": "execute_result"
    }
   ],
   "source": [
    "## Grouping Major by Career Pay\n",
    "major_growth_pay = df.groupby('Major')['Growth in Pay'].sum()\n",
    "major_growth_pay"
   ]
  },
  {
   "cell_type": "code",
   "execution_count": 184,
   "id": "12d9d187",
   "metadata": {},
   "outputs": [],
   "source": [
    "## Top 10 by Growth pay\n",
    "top_10_growth_pay = major_growth_pay.nlargest(10)"
   ]
  },
  {
   "cell_type": "code",
   "execution_count": 185,
   "id": "300aa3b5",
   "metadata": {},
   "outputs": [
    {
     "data": {
      "text/plain": [
       "Major\n",
       "Petroleum Engineering                           114000\n",
       "Interaction Design                              101400\n",
       "Operations Research & Industrial Engineering    101400\n",
       "Building Science                                101300\n",
       "Actuarial Mathematics                            96300\n",
       "Aerospace Studies                                93900\n",
       "Foreign Affairs                                  92500\n",
       "Public Accounting                                90700\n",
       "Information & Computer Science                   89700\n",
       "Applied Economics and Management                 88100\n",
       "Name: Growth in Pay, dtype: int32"
      ]
     },
     "execution_count": 185,
     "metadata": {},
     "output_type": "execute_result"
    }
   ],
   "source": [
    "top_10_growth_pay"
   ]
  },
  {
   "cell_type": "code",
   "execution_count": 186,
   "id": "40275cab",
   "metadata": {},
   "outputs": [],
   "source": [
    "#3 Bottom 10 by Growth pay\n",
    "bottom_10_growth_pay = major_growth_pay.nsmallest(10)"
   ]
  },
  {
   "cell_type": "code",
   "execution_count": 187,
   "id": "23544a4d",
   "metadata": {},
   "outputs": [
    {
     "data": {
      "text/plain": [
       "Major\n",
       "Metalsmithing                  700\n",
       "Addictions Counseling         5100\n",
       "Horticulture & Agronomy       6500\n",
       "Early Childhood Education     8800\n",
       "Nonprofit Administration      9800\n",
       "Middle School Education      10300\n",
       "Mental Health                10400\n",
       "Dental Hygiene               10600\n",
       "Practical Nursing            11200\n",
       "Equine Studies               11800\n",
       "Name: Growth in Pay, dtype: int32"
      ]
     },
     "execution_count": 187,
     "metadata": {},
     "output_type": "execute_result"
    }
   ],
   "source": [
    "bottom_10_growth_pay"
   ]
  },
  {
   "cell_type": "code",
   "execution_count": 188,
   "id": "7a6ea24e",
   "metadata": {},
   "outputs": [],
   "source": [
    "## I think havign the list is good enough, more interesting would be to know which grows more percentage wise\n",
    "## Growth wise as a percentage\n",
    "df['Percent Career Growth'] = ((df['Mid-Career Pay']- df['Early Career Pay'])/df['Early Career Pay'])*100"
   ]
  },
  {
   "cell_type": "code",
   "execution_count": 189,
   "id": "10978380",
   "metadata": {},
   "outputs": [
    {
     "data": {
      "text/html": [
       "<div>\n",
       "<style scoped>\n",
       "    .dataframe tbody tr th:only-of-type {\n",
       "        vertical-align: middle;\n",
       "    }\n",
       "\n",
       "    .dataframe tbody tr th {\n",
       "        vertical-align: top;\n",
       "    }\n",
       "\n",
       "    .dataframe thead th {\n",
       "        text-align: right;\n",
       "    }\n",
       "</style>\n",
       "<table border=\"1\" class=\"dataframe\">\n",
       "  <thead>\n",
       "    <tr style=\"text-align: right;\">\n",
       "      <th></th>\n",
       "      <th>Rank</th>\n",
       "      <th>Major</th>\n",
       "      <th>Degree Type</th>\n",
       "      <th>Early Career Pay</th>\n",
       "      <th>Mid-Career Pay</th>\n",
       "      <th>% High Meaning</th>\n",
       "      <th>Growth in Pay</th>\n",
       "      <th>Percent Career Growth</th>\n",
       "    </tr>\n",
       "  </thead>\n",
       "  <tbody>\n",
       "    <tr>\n",
       "      <th>0</th>\n",
       "      <td>1</td>\n",
       "      <td>Petroleum Engineering</td>\n",
       "      <td>Bachelors</td>\n",
       "      <td>98100</td>\n",
       "      <td>212100</td>\n",
       "      <td>0.60</td>\n",
       "      <td>114000</td>\n",
       "      <td>116.207951</td>\n",
       "    </tr>\n",
       "    <tr>\n",
       "      <th>1</th>\n",
       "      <td>2</td>\n",
       "      <td>Operations Research &amp; Industrial Engineering</td>\n",
       "      <td>Bachelors</td>\n",
       "      <td>101200</td>\n",
       "      <td>202600</td>\n",
       "      <td>0.21</td>\n",
       "      <td>101400</td>\n",
       "      <td>100.197628</td>\n",
       "    </tr>\n",
       "    <tr>\n",
       "      <th>2</th>\n",
       "      <td>3</td>\n",
       "      <td>Electrical Engineering &amp; Computer Science (EECS)</td>\n",
       "      <td>Bachelors</td>\n",
       "      <td>128500</td>\n",
       "      <td>192300</td>\n",
       "      <td>0.45</td>\n",
       "      <td>63800</td>\n",
       "      <td>49.649805</td>\n",
       "    </tr>\n",
       "    <tr>\n",
       "      <th>3</th>\n",
       "      <td>4</td>\n",
       "      <td>Interaction Design</td>\n",
       "      <td>Bachelors</td>\n",
       "      <td>77400</td>\n",
       "      <td>178800</td>\n",
       "      <td>0.55</td>\n",
       "      <td>101400</td>\n",
       "      <td>131.007752</td>\n",
       "    </tr>\n",
       "    <tr>\n",
       "      <th>4</th>\n",
       "      <td>5</td>\n",
       "      <td>Building Science</td>\n",
       "      <td>Bachelors</td>\n",
       "      <td>71100</td>\n",
       "      <td>172400</td>\n",
       "      <td>0.46</td>\n",
       "      <td>101300</td>\n",
       "      <td>142.475387</td>\n",
       "    </tr>\n",
       "    <tr>\n",
       "      <th>...</th>\n",
       "      <td>...</td>\n",
       "      <td>...</td>\n",
       "      <td>...</td>\n",
       "      <td>...</td>\n",
       "      <td>...</td>\n",
       "      <td>...</td>\n",
       "      <td>...</td>\n",
       "      <td>...</td>\n",
       "    </tr>\n",
       "    <tr>\n",
       "      <th>758</th>\n",
       "      <td>759</td>\n",
       "      <td>Equine Studies</td>\n",
       "      <td>Bachelors</td>\n",
       "      <td>42300</td>\n",
       "      <td>54100</td>\n",
       "      <td>0.50</td>\n",
       "      <td>11800</td>\n",
       "      <td>27.895981</td>\n",
       "    </tr>\n",
       "    <tr>\n",
       "      <th>759</th>\n",
       "      <td>760</td>\n",
       "      <td>Nonprofit Administration</td>\n",
       "      <td>Bachelors</td>\n",
       "      <td>43900</td>\n",
       "      <td>53700</td>\n",
       "      <td>0.73</td>\n",
       "      <td>9800</td>\n",
       "      <td>22.323462</td>\n",
       "    </tr>\n",
       "    <tr>\n",
       "      <th>760</th>\n",
       "      <td>761</td>\n",
       "      <td>Addictions Counseling</td>\n",
       "      <td>Bachelors</td>\n",
       "      <td>47300</td>\n",
       "      <td>52400</td>\n",
       "      <td>0.78</td>\n",
       "      <td>5100</td>\n",
       "      <td>10.782241</td>\n",
       "    </tr>\n",
       "    <tr>\n",
       "      <th>761</th>\n",
       "      <td>762</td>\n",
       "      <td>Early Childhood Education</td>\n",
       "      <td>Bachelors</td>\n",
       "      <td>43400</td>\n",
       "      <td>52200</td>\n",
       "      <td>0.78</td>\n",
       "      <td>8800</td>\n",
       "      <td>20.276498</td>\n",
       "    </tr>\n",
       "    <tr>\n",
       "      <th>762</th>\n",
       "      <td>763</td>\n",
       "      <td>Metalsmithing</td>\n",
       "      <td>Bachelors</td>\n",
       "      <td>45900</td>\n",
       "      <td>46600</td>\n",
       "      <td>0.36</td>\n",
       "      <td>700</td>\n",
       "      <td>1.525054</td>\n",
       "    </tr>\n",
       "  </tbody>\n",
       "</table>\n",
       "<p>763 rows × 8 columns</p>\n",
       "</div>"
      ],
      "text/plain": [
       "     Rank                                             Major Degree Type  \\\n",
       "0       1                             Petroleum Engineering   Bachelors   \n",
       "1       2      Operations Research & Industrial Engineering   Bachelors   \n",
       "2       3  Electrical Engineering & Computer Science (EECS)   Bachelors   \n",
       "3       4                                Interaction Design   Bachelors   \n",
       "4       5                                  Building Science   Bachelors   \n",
       "..    ...                                               ...         ...   \n",
       "758   759                                    Equine Studies   Bachelors   \n",
       "759   760                          Nonprofit Administration   Bachelors   \n",
       "760   761                             Addictions Counseling   Bachelors   \n",
       "761   762                         Early Childhood Education   Bachelors   \n",
       "762   763                                     Metalsmithing   Bachelors   \n",
       "\n",
       "     Early Career Pay  Mid-Career Pay  % High Meaning  Growth in Pay  \\\n",
       "0               98100          212100            0.60         114000   \n",
       "1              101200          202600            0.21         101400   \n",
       "2              128500          192300            0.45          63800   \n",
       "3               77400          178800            0.55         101400   \n",
       "4               71100          172400            0.46         101300   \n",
       "..                ...             ...             ...            ...   \n",
       "758             42300           54100            0.50          11800   \n",
       "759             43900           53700            0.73           9800   \n",
       "760             47300           52400            0.78           5100   \n",
       "761             43400           52200            0.78           8800   \n",
       "762             45900           46600            0.36            700   \n",
       "\n",
       "     Percent Career Growth  \n",
       "0               116.207951  \n",
       "1               100.197628  \n",
       "2                49.649805  \n",
       "3               131.007752  \n",
       "4               142.475387  \n",
       "..                     ...  \n",
       "758              27.895981  \n",
       "759              22.323462  \n",
       "760              10.782241  \n",
       "761              20.276498  \n",
       "762               1.525054  \n",
       "\n",
       "[763 rows x 8 columns]"
      ]
     },
     "execution_count": 189,
     "metadata": {},
     "output_type": "execute_result"
    }
   ],
   "source": [
    "## It worked\n",
    "df"
   ]
  },
  {
   "cell_type": "code",
   "execution_count": 190,
   "id": "252e535f",
   "metadata": {},
   "outputs": [],
   "source": [
    "## Goruping as we've done before\n",
    "percent_growth_major = df.groupby('Major')['Percent Career Growth'].sum()"
   ]
  },
  {
   "cell_type": "code",
   "execution_count": 191,
   "id": "c826b537",
   "metadata": {},
   "outputs": [
    {
     "data": {
      "text/plain": [
       "Major\n",
       "3D Animation                         54.794521\n",
       "Accounting                           68.691589\n",
       "Accounting & Auditing                68.491124\n",
       "Accounting & Business                54.590164\n",
       "Accounting & Computer Systems        38.174807\n",
       "                                       ...    \n",
       "Women's Studies                      50.285714\n",
       "Workforce Education & Development    33.429812\n",
       "Writing                              90.856031\n",
       "Youth Ministry                       44.772727\n",
       "Zoology                              83.817427\n",
       "Name: Percent Career Growth, Length: 763, dtype: float64"
      ]
     },
     "execution_count": 191,
     "metadata": {},
     "output_type": "execute_result"
    }
   ],
   "source": [
    "percent_growth_major"
   ]
  },
  {
   "cell_type": "code",
   "execution_count": 195,
   "id": "05b69c34",
   "metadata": {},
   "outputs": [],
   "source": [
    "## Defining variables\n",
    "top10_percent_growth = percent_growth_major.nlargest(10)\n",
    "bottom10_percent_growth = percent_growth_major.nsmallest(10).sort_values(ascending=False)"
   ]
  },
  {
   "cell_type": "code",
   "execution_count": 193,
   "id": "474efd98",
   "metadata": {},
   "outputs": [
    {
     "name": "stdout",
     "output_type": "stream",
     "text": [
      "Major\n",
      "Landscape Design                       20.898100\n",
      "Middle School Education                20.641283\n",
      "Early Childhood Education              20.276498\n",
      "Electronic Systems Technology (EST)    17.988827\n",
      "Diagnostic Medical Ultrasound          17.237009\n",
      "Practical Nursing                      15.533981\n",
      "Dental Hygiene                         12.709832\n",
      "Addictions Counseling                  10.782241\n",
      "Horticulture & Agronomy                10.708402\n",
      "Metalsmithing                           1.525054\n",
      "Name: Percent Career Growth, dtype: float64\n"
     ]
    }
   ],
   "source": [
    "print(bottom10_percent_growth)"
   ]
  },
  {
   "cell_type": "code",
   "execution_count": 196,
   "id": "59d634cb",
   "metadata": {},
   "outputs": [
    {
     "name": "stdout",
     "output_type": "stream",
     "text": [
      "Major\n",
      "Aerospace Studies        145.581395\n",
      "Building Science         142.475387\n",
      "Foreign Affairs          141.871166\n",
      "Organic Chemistry        137.743191\n",
      "Actuarial Mathematics    135.252809\n",
      "Bioscience               134.035656\n",
      "Asian Studies            132.664234\n",
      "Interaction Design       131.007752\n",
      "Public Accounting        126.853147\n",
      "Jazz Studies             125.078370\n",
      "Name: Percent Career Growth, dtype: float64\n"
     ]
    }
   ],
   "source": [
    "print(top10_percent_growth)"
   ]
  },
  {
   "cell_type": "code",
   "execution_count": null,
   "id": "3cf7da1f",
   "metadata": {},
   "outputs": [],
   "source": [
    "## Asian Studies was suprising as well as Jazz Studies\n",
    "## Hope you enjoyed this small project"
   ]
  }
 ],
 "metadata": {
  "kernelspec": {
   "display_name": "Python 3 (ipykernel)",
   "language": "python",
   "name": "python3"
  },
  "language_info": {
   "codemirror_mode": {
    "name": "ipython",
    "version": 3
   },
   "file_extension": ".py",
   "mimetype": "text/x-python",
   "name": "python",
   "nbconvert_exporter": "python",
   "pygments_lexer": "ipython3",
   "version": "3.9.13"
  }
 },
 "nbformat": 4,
 "nbformat_minor": 5
}
